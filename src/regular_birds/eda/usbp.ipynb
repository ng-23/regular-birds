{
 "cells": [
  {
   "cell_type": "markdown",
   "metadata": {},
   "source": [
    "# Exploratory Data Analysis of USBP Encounters"
   ]
  },
  {
   "cell_type": "code",
   "execution_count": null,
   "metadata": {},
   "outputs": [],
   "source": [
    "%matplotlib inline\n",
    "\n",
    "# load environment variables\n",
    "from dotenv import load_dotenv\n",
    "import os\n",
    "\n",
    "load_dotenv()"
   ]
  },
  {
   "cell_type": "markdown",
   "metadata": {},
   "source": [
    "## Visualize USBP monthly encounters data"
   ]
  },
  {
   "cell_type": "code",
   "execution_count": null,
   "metadata": {},
   "outputs": [],
   "source": [
    "# load usbp encounters monthly data\n",
    "import pandas as pd\n",
    "import matplotlib\n",
    "import matplotlib.style\n",
    "import matplotlib.pyplot as plt\n",
    "\n",
    "usbp_data_fp = os.getenv('USBP_DATA_FP')\n",
    "\n",
    "monthly_counts_df = pd.read_excel(usbp_data_fp, sheet_name='Monthly Count')\n",
    "\n",
    "# rename Fiscal Year column\n",
    "monthly_counts_df = monthly_counts_df.rename(columns={'Fiscal\\nYear': 'Fiscal Year'})\n",
    "print(monthly_counts_df.head(n=12))\n",
    "\n",
    "# 2025 data is incomplete - drop it for now\n",
    "monthly_counts_df = monthly_counts_df.loc[(monthly_counts_df['Fiscal Year'] != 2025)]\n"
   ]
  },
  {
   "cell_type": "code",
   "execution_count": null,
   "metadata": {},
   "outputs": [],
   "source": [
    "# plot unstacked bar charts of monthly usbp encounters for select years\n",
    "\n",
    "years = [2000, 2010, 2020, 2024]\n",
    "\n",
    "dfs = []\n",
    "for year in years:\n",
    "    year_df = monthly_counts_df.loc[(monthly_counts_df['Fiscal Year'] == year)].set_index('Month')\n",
    "    year_df = year_df.rename(columns={'Quantity': f'{year}'}) # renamed for ease of plotting\n",
    "    dfs.append(year_df)\n",
    "    print(year_df.head(n=3))\n",
    "years_df = pd.concat(dfs, axis=1) # concat dataframes horizontally\n",
    "\n",
    "with plt.style.context('fivethirtyeight'): # see https://stackoverflow.com/questions/45103486/use-different-style-for-each-figure\n",
    "    years_df.plot(kind='bar', y=[col for col in years_df.columns if col != 'Fiscal Year'], ylabel='Encounters', title='Monthly USBP Encounters')\n"
   ]
  },
  {
   "cell_type": "code",
   "execution_count": null,
   "metadata": {},
   "outputs": [],
   "source": [
    "# plot line charts of total encounters for each month across all years\n",
    "\n",
    "encounters_by_month = monthly_counts_df.groupby(['Month','Fiscal Year'])['Quantity'].sum()\n",
    "\n",
    "with plt.style.context('bmh'):\n",
    "    fig, axes = plt.subplots(nrows=4, ncols=3, figsize=(36, 36))\n",
    "    plt.subplots_adjust(hspace=0.3)\n",
    "\n",
    "    months = monthly_counts_df['Month'].unique()\n",
    "    for i, month in enumerate(months):\n",
    "        month_data = encounters_by_month[month]\n",
    "        month_data.plot(kind='line', ax=axes[i // 3, i % 3], y='Quantity', ylabel='Encounters', title=f'USBP Encounters by Year for {month}')\n"
   ]
  },
  {
   "cell_type": "code",
   "execution_count": null,
   "metadata": {},
   "outputs": [],
   "source": [
    "# plot unstacked bar chart of average usbp encounters for each month across all years\n",
    "\n",
    "monthly_avgs = monthly_counts_df.groupby(by=['Month'])['Quantity'].mean()\n",
    "print(monthly_avgs)\n",
    "\n",
    "with plt.style.context('bmh'):\n",
    "    monthly_avgs.plot(kind='bar', ylabel='Average Encounters', title='Average Monthly USBP Encounters')\n"
   ]
  },
  {
   "cell_type": "code",
   "execution_count": null,
   "metadata": {},
   "outputs": [],
   "source": [
    "# plot unstacked bar chart of annual usbp encounters across all years\n",
    "\n",
    "annual_totals = monthly_counts_df.groupby(by='Fiscal Year')['Quantity'].sum()\n",
    "print(annual_totals)\n",
    "\n",
    "with plt.style.context('Solarize_Light2'):\n",
    "    annual_totals.plot(kind='bar', ylabel='Total Encounters', title='Annual USBP Encounters')\n",
    "    plt.yscale('log')\n"
   ]
  },
  {
   "cell_type": "markdown",
   "metadata": {},
   "source": [
    "## Visualize USBP regional monthly encounters data"
   ]
  },
  {
   "cell_type": "code",
   "execution_count": null,
   "metadata": {},
   "outputs": [],
   "source": [
    "# load usbp encounters regional monthly data\n",
    "import pandas as pd\n",
    "import matplotlib\n",
    "import matplotlib.style\n",
    "import matplotlib.pyplot as plt\n",
    "\n",
    "usbp_data_fp = os.getenv('USBP_DATA_FP')\n",
    "\n",
    "reg_monthly_counts_df = pd.read_excel(usbp_data_fp, sheet_name='Monthly Region')\n",
    "\n",
    "# rename Fiscal Year column\n",
    "reg_monthly_counts_df = reg_monthly_counts_df.rename(columns={'Fiscal\\nYear': 'Fiscal Year'})\n",
    "print(reg_monthly_counts_df.head(n=12))\n",
    "\n",
    "# 2025 data is incomplete - drop it for now\n",
    "reg_monthly_counts_df = reg_monthly_counts_df.loc[(reg_monthly_counts_df['Fiscal Year'] != 2025)]\n"
   ]
  },
  {
   "cell_type": "code",
   "execution_count": null,
   "metadata": {},
   "outputs": [],
   "source": [
    "# plot unstacked bar charts of usbp encounters across all months per region for select years\n",
    "\n",
    "years = [2000, 2010, 2020, 2024]\n",
    "\n",
    "with plt.style.context('ggplot'):\n",
    "    fig, axes = plt.subplots(nrows=2, ncols=2, figsize=(24, 24))\n",
    "    plt.subplots_adjust(hspace=0.4)\n",
    "    plt.yscale('log')\n",
    "\n",
    "    for i, year in enumerate(years):\n",
    "        year_data = reg_monthly_counts_df.loc[(reg_monthly_counts_df['Fiscal Year'] == year)].groupby(by='Region')['Quantity'].sum()\n",
    "        print(f'Year: {year}\\n{year_data}\\n{'-'*45}')\n",
    "        year_data.plot(kind='bar', ax=axes[i // 2, i % 2], y='Quantity', ylabel='Encounters', title=f'USBP Encounters by Region for {year}')\n"
   ]
  },
  {
   "cell_type": "code",
   "execution_count": null,
   "metadata": {},
   "outputs": [],
   "source": [
    "# plot line chart of annual usbp encounters for each region\n",
    "\n",
    "reg_annual_counts = reg_monthly_counts_df.groupby(by=['Region','Fiscal Year'])['Quantity'].sum()\n",
    "\n",
    "with plt.style.context('seaborn-v0_8-pastel'):\n",
    "    fig, axes = plt.subplots(nrows=1, ncols=3, figsize=(36, 12))\n",
    "    plt.subplots_adjust(wspace=0.4)\n",
    "    plt.yscale('log')\n",
    "\n",
    "    regions = reg_monthly_counts_df['Region'].unique()\n",
    "    for i, region in enumerate(regions):\n",
    "        annual_counts = reg_annual_counts[region]\n",
    "        print(f'{region} annual encounters:\\n{annual_counts.head(n=5)}\\n{'-'*50}')\n",
    "        annual_counts.plot(kind='line', ax=axes[i], y='Quantity', ylabel='Encounters', title=f'Annual USBP Encounters for {region}')\n"
   ]
  },
  {
   "cell_type": "code",
   "execution_count": null,
   "metadata": {},
   "outputs": [],
   "source": [
    "# plot unstacked bar charts of monthly usbp encounters for each region across all years\n",
    "\n",
    "data = reg_monthly_counts_df.groupby(by=['Region','Month'])['Quantity'].sum()\n",
    "\n",
    "with plt.style.context('ggplot'):\n",
    "    fig, axes = plt.subplots(nrows=1, ncols=3, figsize=(36,36))\n",
    "    plt.subplots_adjust(wspace=0.2)\n",
    "    plt.yscale('log')\n",
    "    \n",
    "    regions = reg_monthly_counts_df['Region'].unique()\n",
    "    for i, region in enumerate(regions):\n",
    "        region_data = data[region]\n",
    "        print(f'{region} total encounters per month across all years:\\n{region_data.head(n=5)}\\n{'-'*50}')\n",
    "        region_data.plot(kind='bar', ax=axes[i], y='Quantity', ylabel='Encounters', title=f'Total Monthly USBP Encounters for {region}')\n"
   ]
  }
 ],
 "metadata": {
  "kernelspec": {
   "display_name": "cbp-encounters",
   "language": "python",
   "name": "python3"
  },
  "language_info": {
   "codemirror_mode": {
    "name": "ipython",
    "version": 3
   },
   "file_extension": ".py",
   "mimetype": "text/x-python",
   "name": "python",
   "nbconvert_exporter": "python",
   "pygments_lexer": "ipython3",
   "version": "3.12.8"
  }
 },
 "nbformat": 4,
 "nbformat_minor": 2
}
